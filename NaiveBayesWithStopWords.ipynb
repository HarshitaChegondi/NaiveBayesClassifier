{
 "cells": [
  {
   "cell_type": "code",
   "execution_count": 3,
   "id": "3ad29fc5",
   "metadata": {},
   "outputs": [],
   "source": [
    "import pandas as pd\n",
    "import numpy as np\n",
    "import string\n",
    "import re\n",
    "from collections import defaultdict"
   ]
  },
  {
   "cell_type": "code",
   "execution_count": 4,
   "id": "c9b24fc6",
   "metadata": {},
   "outputs": [
    {
     "name": "stdout",
     "output_type": "stream",
     "text": [
      "       Freshness                                             Review\n",
      "0          fresh   Manakamana doesn't answer any questions, yet ...\n",
      "1          fresh   Wilfully offensive and powered by a chest-thu...\n",
      "2         rotten   It would be difficult to imagine material mor...\n",
      "3         rotten   Despite the gusto its star brings to the role...\n",
      "4         rotten   If there was a good idea at the core of this ...\n",
      "...          ...                                                ...\n",
      "479995    rotten   Zemeckis seems unable to admit that the motio...\n",
      "479996     fresh   Movies like The Kids Are All Right -- beautif...\n",
      "479997    rotten   Film-savvy audiences soon will catch onto Win...\n",
      "479998     fresh                        An odd yet enjoyable film. \n",
      "479999     fresh   No other animation studio, even our beloved P...\n",
      "\n",
      "[480000 rows x 2 columns]\n"
     ]
    }
   ],
   "source": [
    "reviews = pd.read_csv('rt_reviews.csv', encoding='latin1')\n",
    "print(reviews)"
   ]
  },
  {
   "cell_type": "code",
   "execution_count": 5,
   "id": "c671e410",
   "metadata": {},
   "outputs": [
    {
     "name": "stdout",
     "output_type": "stream",
     "text": [
      "       Freshness                                             Review\n",
      "0          fresh   Manakamana doesn't answer any questions, yet ...\n",
      "1          fresh   Wilfully offensive and powered by a chest-thu...\n",
      "2         rotten   It would be difficult to imagine material mor...\n",
      "3         rotten   Despite the gusto its star brings to the role...\n",
      "4         rotten   If there was a good idea at the core of this ...\n",
      "...          ...                                                ...\n",
      "287995     fresh   [T]here's some remarkable psychological insig...\n",
      "287996     fresh   It's a sports film nonsports fans can love; i...\n",
      "287997     fresh                          A solid, well-acted tale.\n",
      "287998     fresh   Not a film for cynics, but a creation of shin...\n",
      "287999     fresh   Simply put, if you like films about boxing, w...\n",
      "\n",
      "[288000 rows x 2 columns]\n",
      "       Freshness                                             Review\n",
      "288000    rotten   A tepid attempt at making an alien abduction ...\n",
      "288001     fresh   a perfectly serviceable race-against-the-cloc...\n",
      "288002     fresh                 A poetic pulp movie made with joy.\n",
      "288003     fresh   Thirst might just be the best horror movie of...\n",
      "288004     fresh   Expect the same easy chemistry between the tw...\n",
      "...          ...                                                ...\n",
      "383995     fresh   The pie-eyed adoration of cinema past beautif...\n",
      "383996    rotten   If there has ever been a film that showcases ...\n",
      "383997    rotten   A listless, troublingly familiar thriller, th...\n",
      "383998    rotten   So I didn't think the movie was any good, no ...\n",
      "383999    rotten   Those hoping for an unintended laugh riot wil...\n",
      "\n",
      "[96000 rows x 2 columns]\n",
      "       Freshness                                             Review\n",
      "384000    rotten   A film that abuses its ridiculous premise and...\n",
      "384001     fresh   For any age, it's amiable and harmlessly ente...\n",
      "384002     fresh   It's an incredibly stirring documentary, one ...\n",
      "384003     fresh   Lennon's spirit, like his music, shines throu...\n",
      "384004    rotten   Try as it might to build a sense of mystery o...\n",
      "...          ...                                                ...\n",
      "479995    rotten   Zemeckis seems unable to admit that the motio...\n",
      "479996     fresh   Movies like The Kids Are All Right -- beautif...\n",
      "479997    rotten   Film-savvy audiences soon will catch onto Win...\n",
      "479998     fresh                        An odd yet enjoyable film. \n",
      "479999     fresh   No other animation studio, even our beloved P...\n",
      "\n",
      "[96000 rows x 2 columns]\n"
     ]
    }
   ],
   "source": [
    "train_size = int(len(reviews) * 0.6)\n",
    "dev_size = int(len(reviews) * 0.2)\n",
    "test_size = len(reviews) - train_size - dev_size\n",
    "\n",
    "train_data = reviews[:train_size]\n",
    "dev_data = reviews[train_size:train_size+dev_size]\n",
    "test_data = reviews[train_size+dev_size:]\n",
    "print(train_data)\n",
    "print(dev_data)\n",
    "print(test_data)"
   ]
  },
  {
   "cell_type": "code",
   "execution_count": 6,
   "id": "15bfdbe2",
   "metadata": {},
   "outputs": [
    {
     "name": "stdout",
     "output_type": "stream",
     "text": [
      "Index(['Freshness', 'Review'], dtype='object')\n",
      "Index(['Freshness', 'Review'], dtype='object')\n",
      "Index(['Freshness', 'Review'], dtype='object')\n"
     ]
    }
   ],
   "source": [
    "print(train_data.columns)\n",
    "print(dev_data.columns)\n",
    "print(test_data.columns)"
   ]
  },
  {
   "cell_type": "code",
   "execution_count": 7,
   "id": "c4cda738",
   "metadata": {},
   "outputs": [
    {
     "name": "stdout",
     "output_type": "stream",
     "text": [
      "  Freshness                                             Review\n",
      "0     fresh   Manakamana doesn't answer any questions, yet ...\n",
      "1     fresh   Wilfully offensive and powered by a chest-thu...\n",
      "2    rotten   It would be difficult to imagine material mor...\n",
      "3    rotten   Despite the gusto its star brings to the role...\n",
      "4    rotten   If there was a good idea at the core of this ...\n",
      "       Freshness                                             Review\n",
      "288000    rotten   A tepid attempt at making an alien abduction ...\n",
      "288001     fresh   a perfectly serviceable race-against-the-cloc...\n",
      "288002     fresh                 A poetic pulp movie made with joy.\n",
      "288003     fresh   Thirst might just be the best horror movie of...\n",
      "288004     fresh   Expect the same easy chemistry between the tw...\n",
      "       Freshness                                             Review\n",
      "384000    rotten   A film that abuses its ridiculous premise and...\n",
      "384001     fresh   For any age, it's amiable and harmlessly ente...\n",
      "384002     fresh   It's an incredibly stirring documentary, one ...\n",
      "384003     fresh   Lennon's spirit, like his music, shines throu...\n",
      "384004    rotten   Try as it might to build a sense of mystery o...\n"
     ]
    }
   ],
   "source": [
    "print(train_data.head())\n",
    "print(dev_data.head())\n",
    "print(test_data.head())"
   ]
  },
  {
   "cell_type": "code",
   "execution_count": 8,
   "id": "76b8b5e1",
   "metadata": {},
   "outputs": [],
   "source": [
    "stopwords = ['i', 'me', 'my', 'myself', 'we', 'our', 'ours', 'ourselves', 'you', \"you're\", \"you've\", \n",
    "             \"you'll\", \"you'd\", 'your', 'yours', 'yourself', 'yourselves', \n",
    "             'he', 'him', 'his', 'himself', 'she', \"she's\", 'her', 'hers', \n",
    "             'herself', 'it', \"it's\", 'its', 'itself', 'they', 'them', 'their', \n",
    "             'theirs', 'themselves', 'what', 'which', 'who', 'whom', 'this', 'that', \n",
    "             \"that'll\", 'these', 'those', 'am', 'is', 'are', 'was', 'were', 'be', \n",
    "             'been', 'being', 'have', 'has', 'had', 'having', 'do', 'does', 'did', \n",
    "             'doing', 'a', 'an', 'the', 'and', 'but', 'if', 'or', 'because', 'as', \n",
    "             'until', 'while', 'of', 'at', 'by', 'for', 'with', 'about', 'against', \n",
    "             'between', 'into', 'through', 'during', 'before', 'after', 'above', 'below', \n",
    "             'to', 'from', 'up', 'down', 'in', 'out', 'on', 'off', 'over', 'under', 'again', \n",
    "             'further', 'then', 'once', 'here', 'there', 'when', 'where', 'why', 'how',\n",
    "             'all', 'any', 'both', 'each', 'few', 'more', 'most', 'other', 'some', 'such',\n",
    "             'no', 'nor', 'not', 'only', 'own', 'same', 'so', 'than', 'too', 'very', 's', 't',\n",
    "             'can', 'will', 'just', 'don', \"don't\", 'should', \"should've\", 'now', 'd', 'll', 'm',\n",
    "             'o', 're', 've', 'y', 'ain', 'aren', \"aren't\", 'couldn', \"couldn't\", 'didn', \"didn't\",\n",
    "             'doesn', \"doesn't\", 'hadn', \"hadn't\", 'hasn', \"hasn't\", 'haven', \"haven't\", 'isn', \n",
    "             \"isn't\", 'ma', 'mightn', \"mightn't\", 'mustn', \"mustn't\", 'needn', \"needn't\", 'shan', \n",
    "             \"shan't\", 'shouldn', \"shouldn't\", 'wasn', \"wasn't\", 'weren', \"weren't\", 'won', \"won't\", 'wouldn', \"wouldn't\"]"
   ]
  },
  {
   "cell_type": "code",
   "execution_count": 9,
   "id": "96f7ea70",
   "metadata": {},
   "outputs": [
    {
     "name": "stderr",
     "output_type": "stream",
     "text": [
      "C:\\Users\\harsh\\AppData\\Local\\Temp\\ipykernel_32904\\1578694307.py:9: SettingWithCopyWarning: \n",
      "A value is trying to be set on a copy of a slice from a DataFrame.\n",
      "Try using .loc[row_indexer,col_indexer] = value instead\n",
      "\n",
      "See the caveats in the documentation: https://pandas.pydata.org/pandas-docs/stable/user_guide/indexing.html#returning-a-view-versus-a-copy\n",
      "  train_data['text'] = train_data['Review'].apply(preprocess)\n",
      "C:\\Users\\harsh\\AppData\\Local\\Temp\\ipykernel_32904\\1578694307.py:10: SettingWithCopyWarning: \n",
      "A value is trying to be set on a copy of a slice from a DataFrame.\n",
      "Try using .loc[row_indexer,col_indexer] = value instead\n",
      "\n",
      "See the caveats in the documentation: https://pandas.pydata.org/pandas-docs/stable/user_guide/indexing.html#returning-a-view-versus-a-copy\n",
      "  dev_data['text'] = dev_data['Review'].apply(preprocess)\n",
      "C:\\Users\\harsh\\AppData\\Local\\Temp\\ipykernel_32904\\1578694307.py:11: SettingWithCopyWarning: \n",
      "A value is trying to be set on a copy of a slice from a DataFrame.\n",
      "Try using .loc[row_indexer,col_indexer] = value instead\n",
      "\n",
      "See the caveats in the documentation: https://pandas.pydata.org/pandas-docs/stable/user_guide/indexing.html#returning-a-view-versus-a-copy\n",
      "  test_data['text'] = test_data['Review'].apply(preprocess)\n"
     ]
    }
   ],
   "source": [
    "def preprocess(text):\n",
    "    # remove punctuation and convert to lowercase\n",
    "    text = re.sub(r'[^\\w\\s]', '', str(text).lower())\n",
    "    # remove stopwords\n",
    "    text = ' '.join([word for word in text.split() if word not in stopwords])\n",
    "    return text\n",
    "\n",
    "# apply the preprocess function to the 'text' column of the DataFrames\n",
    "train_data['text'] = train_data['Review'].apply(preprocess)\n",
    "dev_data['text'] = dev_data['Review'].apply(preprocess)\n",
    "test_data['text'] = test_data['Review'].apply(preprocess)"
   ]
  },
  {
   "cell_type": "code",
   "execution_count": 10,
   "id": "b91202d6",
   "metadata": {},
   "outputs": [
    {
     "name": "stdout",
     "output_type": "stream",
     "text": [
      "0         manakamana doesnt answer questions yet makes p...\n",
      "1         wilfully offensive powered chestthumping machi...\n",
      "2         would difficult imagine material wrong spade l...\n",
      "3         despite gusto star brings role hard ride shotg...\n",
      "4         good idea core film buried unsightly pile flat...\n",
      "                                ...                        \n",
      "287995    theres remarkable psychological insight scary ...\n",
      "287996    sports film nonsports fans love family film ne...\n",
      "287997                                 solid wellacted tale\n",
      "287998    film cynics creation shining optimismearnest u...\n",
      "287999    simply put like films boxing emotional quotien...\n",
      "Name: text, Length: 288000, dtype: object\n"
     ]
    }
   ],
   "source": [
    "train_data_copy = train_data.copy()\n",
    "train_data_copy['text'] = train_data_copy['Review'].apply(preprocess)\n",
    "print(train_data_copy['text']);\n",
    "\n",
    "dev_data_copy = dev_data.copy()\n",
    "dev_data_copy['text'] = dev_data_copy['Review'].apply(preprocess)\n",
    "\n",
    "test_data_copy = test_data.copy()\n",
    "test_data_copy['text'] = test_data_copy['Review'].apply(preprocess)\n"
   ]
  },
  {
   "cell_type": "code",
   "execution_count": 11,
   "id": "686bb667",
   "metadata": {},
   "outputs": [],
   "source": [
    "vocabulary = []\n",
    "for text in train_data['text']:\n",
    "    for word in text.split():\n",
    "        if word not in vocabulary:\n",
    "            vocabulary.append(word)"
   ]
  },
  {
   "cell_type": "code",
   "execution_count": 12,
   "id": "a1a04a4c",
   "metadata": {},
   "outputs": [],
   "source": [
    "word_index = {}\n",
    "for i, word in enumerate(vocabulary):\n",
    "    word_index[word] = i"
   ]
  },
  {
   "cell_type": "code",
   "execution_count": 13,
   "id": "4802244d",
   "metadata": {},
   "outputs": [],
   "source": [
    "doc_count = defaultdict(int)\n",
    "sent_count = defaultdict(lambda: defaultdict(int))\n",
    "\n",
    "for i, row in train_data.iterrows():\n",
    "    sentiment = row['Freshness'].strip().lower()  # normalize the sentiment value\n",
    "    doc_count_total = 0\n",
    "    for word in row['text'].split():\n",
    "        doc_count[word] += 1\n",
    "        sent_count[sentiment][word] += 1\n",
    "        doc_count_total += 1\n",
    "    # update the sentiment count\n",
    "    sent_count[sentiment]['__total__'] += 1\n",
    "\n",
    "# calculate the probability of each word\n",
    "prob_word = {}\n",
    "for word, count in doc_count.items():\n",
    "    if count >= 5:\n",
    "        prob_word[word] = count / len(train_data)\n"
   ]
  },
  {
   "cell_type": "code",
   "execution_count": 14,
   "id": "12367920",
   "metadata": {},
   "outputs": [],
   "source": [
    "# calculate the conditional probability of each word given each sentiment\n",
    "cond_prob = {}\n",
    "for word in prob_word.keys():\n",
    "    cond_prob[word] = {}\n",
    "    for sentiment in sent_count.keys():\n",
    "        num = sent_count[sentiment][word] + 1\n",
    "        denom = sent_count[sentiment]['__total__'] + len(prob_word)\n",
    "        cond_prob[word][sentiment] = num / denom\n"
   ]
  },
  {
   "cell_type": "code",
   "execution_count": 15,
   "id": "9f494fc3",
   "metadata": {},
   "outputs": [],
   "source": [
    "def classify(text):\n",
    "    # calculate the log probability of the text being fresh and rotten\n",
    "    log_prob_fresh = np.log(sent_count['Fresh']['__total__'] / len(train_data))\n",
    "    log_prob_rotten = np.log(sent_count['Rotten']['__total__'] / len(train_data))\n",
    "    \n",
    "    for word in text.split():\n",
    "        if word in cond_prob:\n",
    "            log_prob_fresh += np.log(cond_prob[word]['Fresh'])\n",
    "            log_prob_rotten += np.log(cond_prob[word]['Rotten'])\n",
    "    \n",
    "    if log_prob_fresh > log_prob_rotten:\n",
    "        return 'Fresh'\n",
    "    else:\n",
    "        return 'Rotten'\n"
   ]
  },
  {
   "cell_type": "code",
   "execution_count": 16,
   "id": "4855c610",
   "metadata": {
    "scrolled": true
   },
   "outputs": [
    {
     "name": "stdout",
     "output_type": "stream",
     "text": [
      "Accuracy: 0.79521875\n"
     ]
    }
   ],
   "source": [
    "# count the number of documents containing each word\n",
    "doc_count = defaultdict(int)\n",
    "# count the number of documents containing each word for each sentiment\n",
    "sent_count = {'fresh': defaultdict(int), 'rotten': defaultdict(int)}\n",
    "\n",
    "for i, row in train_data.iterrows():\n",
    "    sentiment = row['Freshness'].lower()\n",
    "    doc_count_total = 0\n",
    "    for word in row['text'].split():\n",
    "        doc_count[word] += 1\n",
    "        sent_count[sentiment][word] += 1\n",
    "        doc_count_total += 1\n",
    "    # update the sentiment count\n",
    "    sent_count[sentiment]['__total__'] += 1\n",
    "\n",
    "# calculate the probability of each word\n",
    "prob_word = {}\n",
    "for word, count in doc_count.items():\n",
    "    if count >= 5:\n",
    "        prob_word[word] = count / len(train_data)\n",
    "\n",
    "# calculate the conditional probability of each word given each sentiment\n",
    "cond_prob = {}\n",
    "for word, count in prob_word.items():\n",
    "    cond_prob[word] = {'fresh': 0, 'rotten': 0}\n",
    "    for sentiment in sent_count:\n",
    "        cond_prob[word][sentiment] = (sent_count[sentiment][word] + 1) / (sent_count[sentiment]['__total__'] + len(prob_word))\n",
    "\n",
    "def classify(text, cond_prob):\n",
    "    # calculate the log probability of the text being fresh and rotten\n",
    "    log_prob_fresh = np.log(sent_count['fresh']['__total__'] / len(train_data))\n",
    "    log_prob_rotten = np.log(sent_count['rotten']['__total__'] / len(train_data))\n",
    "    \n",
    "    for word in text.split():\n",
    "        if word in cond_prob:\n",
    "            log_prob_fresh += np.log(cond_prob[word]['fresh'])\n",
    "            log_prob_rotten += np.log(cond_prob[word]['rotten'])\n",
    "    \n",
    "    if log_prob_fresh > log_prob_rotten:\n",
    "        return 'fresh'\n",
    "    else:\n",
    "        return 'rotten'\n",
    "\n",
    "correct_count = 0\n",
    "total_count = len(dev_data)\n",
    "for i, row in dev_data.iterrows():\n",
    "    text = row['text']\n",
    "    sentiment = row['Freshness'].lower() # convert to lower case\n",
    "    predicted_sentiment = classify(text, cond_prob)\n",
    "    if sentiment == predicted_sentiment:\n",
    "        correct_count += 1\n",
    "\n",
    "accuracy = correct_count / total_count\n",
    "print('Accuracy:', accuracy)\n"
   ]
  },
  {
   "cell_type": "code",
   "execution_count": 20,
   "id": "eaa7f4b1",
   "metadata": {},
   "outputs": [
    {
     "name": "stdout",
     "output_type": "stream",
     "text": [
      "Accuracy (alpha=0.001): 0.792\n",
      "Accuracy (alpha=0.01): 0.793\n",
      "Accuracy (alpha=0.1): 0.793\n",
      "Accuracy (alpha=1): 0.794\n",
      "Accuracy (alpha=10): 0.790\n",
      "Accuracy (alpha=100): 0.773\n"
     ]
    }
   ],
   "source": [
    "def calculate_cond_prob(alpha):\n",
    "    # calculate the conditional probability of each word given each sentiment\n",
    "    cond_prob = {}\n",
    "    for word in prob_word.keys():\n",
    "        cond_prob[word] = {}\n",
    "        for sentiment in sent_count.keys():\n",
    "            num = sent_count[sentiment][word] + alpha\n",
    "            denom = sent_count[sentiment]['__total__'] + alpha*len(prob_word)\n",
    "            cond_prob[word][sentiment] = num / denom\n",
    "    return cond_prob\n",
    "\n",
    "alpha_list = [0.001, 0.01,0.1, 1, 10, 100]\n",
    "for alpha in alpha_list:\n",
    "    cond_prob = calculate_cond_prob(alpha)\n",
    "    correct_count = 0\n",
    "    total_count = len(test_data)\n",
    "    for i, row in test_data.iterrows():\n",
    "        text = row['text']\n",
    "        sentiment = row['Freshness']\n",
    "        predicted_sentiment = classify(text, cond_prob)\n",
    "        if sentiment == predicted_sentiment:\n",
    "            correct_count += 1\n",
    "\n",
    "    accuracy = correct_count / total_count\n",
    "    print('Accuracy (alpha={}): {:.3f}'.format(alpha, accuracy))\n"
   ]
  },
  {
   "cell_type": "code",
   "execution_count": 18,
   "id": "b577bc6e",
   "metadata": {},
   "outputs": [
    {
     "name": "stdout",
     "output_type": "stream",
     "text": [
      "Top 10 words that predict \"fresh\":\n",
      "movie (0.004)\n",
      "like (0.002)\n",
      "even (0.002)\n",
      "much (0.001)\n",
      "time (0.001)\n",
      "comedy (0.001)\n",
      "make (0.001)\n",
      "characters (0.001)\n",
      "enough (0.001)\n",
      "never (0.001)\n",
      "\n",
      "Top 10 words that predict \"rotten\":\n",
      "film (0.005)\n",
      "one (0.003)\n",
      "story (0.002)\n",
      "good (0.001)\n",
      "films (0.001)\n",
      "way (0.001)\n",
      "movies (0.001)\n",
      "full (0.001)\n",
      "action (0.001)\n",
      "director (0.001)\n"
     ]
    }
   ],
   "source": [
    "def top_words(sentiment, num_words=10):\n",
    "    words = []\n",
    "    for word in cond_prob.keys():\n",
    "        if cond_prob[word]['rotten'] > cond_prob[word][sentiment]:\n",
    "            words.append((word, cond_prob[word][sentiment]))\n",
    "        elif cond_prob[word]['fresh'] > cond_prob[word][sentiment]:\n",
    "            words.append((word, cond_prob[word][sentiment]))\n",
    "    words.sort(key=lambda x: -x[1])\n",
    "    return words[:num_words]\n",
    "\n",
    "top_fresh_words = top_words('fresh')\n",
    "top_rotten_words = top_words('rotten')\n",
    "\n",
    "print('Top 10 words that predict \"fresh\":')\n",
    "for word, prob in top_fresh_words:\n",
    "    print('{} ({:.3f})'.format(word, prob))\n",
    "print('\\nTop 10 words that predict \"rotten\":')\n",
    "for word, prob in top_rotten_words:\n",
    "    print('{} ({:.3f})'.format(word, prob))"
   ]
  },
  {
   "cell_type": "code",
   "execution_count": null,
   "id": "c610584b",
   "metadata": {},
   "outputs": [],
   "source": []
  }
 ],
 "metadata": {
  "kernelspec": {
   "display_name": "Python 3 (ipykernel)",
   "language": "python",
   "name": "python3"
  },
  "language_info": {
   "codemirror_mode": {
    "name": "ipython",
    "version": 3
   },
   "file_extension": ".py",
   "mimetype": "text/x-python",
   "name": "python",
   "nbconvert_exporter": "python",
   "pygments_lexer": "ipython3",
   "version": "3.11.2"
  }
 },
 "nbformat": 4,
 "nbformat_minor": 5
}
