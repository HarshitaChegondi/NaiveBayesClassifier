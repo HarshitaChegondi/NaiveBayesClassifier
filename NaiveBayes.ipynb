{
 "cells": [
  {
   "cell_type": "code",
   "execution_count": 70,
   "id": "3ad29fc5",
   "metadata": {},
   "outputs": [],
   "source": [
    "import pandas as pd\n",
    "import numpy as np\n",
    "import string\n",
    "import re\n",
    "from collections import defaultdict"
   ]
  },
  {
   "cell_type": "code",
   "execution_count": 71,
   "id": "c9b24fc6",
   "metadata": {},
   "outputs": [
    {
     "name": "stdout",
     "output_type": "stream",
     "text": [
      "       Freshness                                             Review\n",
      "0          fresh   Manakamana doesn't answer any questions, yet ...\n",
      "1          fresh   Wilfully offensive and powered by a chest-thu...\n",
      "2         rotten   It would be difficult to imagine material mor...\n",
      "3         rotten   Despite the gusto its star brings to the role...\n",
      "4         rotten   If there was a good idea at the core of this ...\n",
      "...          ...                                                ...\n",
      "479995    rotten   Zemeckis seems unable to admit that the motio...\n",
      "479996     fresh   Movies like The Kids Are All Right -- beautif...\n",
      "479997    rotten   Film-savvy audiences soon will catch onto Win...\n",
      "479998     fresh                        An odd yet enjoyable film. \n",
      "479999     fresh   No other animation studio, even our beloved P...\n",
      "\n",
      "[480000 rows x 2 columns]\n"
     ]
    }
   ],
   "source": [
    "reviews = pd.read_csv('rt_reviews.csv', encoding='latin1')\n",
    "print(reviews)"
   ]
  },
  {
   "cell_type": "code",
   "execution_count": 99,
   "id": "c671e410",
   "metadata": {},
   "outputs": [
    {
     "name": "stdout",
     "output_type": "stream",
     "text": [
      "       Freshness                                             Review\n",
      "0          fresh   Manakamana doesn't answer any questions, yet ...\n",
      "1          fresh   Wilfully offensive and powered by a chest-thu...\n",
      "2         rotten   It would be difficult to imagine material mor...\n",
      "3         rotten   Despite the gusto its star brings to the role...\n",
      "4         rotten   If there was a good idea at the core of this ...\n",
      "...          ...                                                ...\n",
      "287995     fresh   [T]here's some remarkable psychological insig...\n",
      "287996     fresh   It's a sports film nonsports fans can love; i...\n",
      "287997     fresh                          A solid, well-acted tale.\n",
      "287998     fresh   Not a film for cynics, but a creation of shin...\n",
      "287999     fresh   Simply put, if you like films about boxing, w...\n",
      "\n",
      "[288000 rows x 2 columns]\n",
      "       Freshness                                             Review\n",
      "288000    rotten   A tepid attempt at making an alien abduction ...\n",
      "288001     fresh   a perfectly serviceable race-against-the-cloc...\n",
      "288002     fresh                 A poetic pulp movie made with joy.\n",
      "288003     fresh   Thirst might just be the best horror movie of...\n",
      "288004     fresh   Expect the same easy chemistry between the tw...\n",
      "...          ...                                                ...\n",
      "383995     fresh   The pie-eyed adoration of cinema past beautif...\n",
      "383996    rotten   If there has ever been a film that showcases ...\n",
      "383997    rotten   A listless, troublingly familiar thriller, th...\n",
      "383998    rotten   So I didn't think the movie was any good, no ...\n",
      "383999    rotten   Those hoping for an unintended laugh riot wil...\n",
      "\n",
      "[96000 rows x 2 columns]\n",
      "       Freshness                                             Review\n",
      "384000    rotten   A film that abuses its ridiculous premise and...\n",
      "384001     fresh   For any age, it's amiable and harmlessly ente...\n",
      "384002     fresh   It's an incredibly stirring documentary, one ...\n",
      "384003     fresh   Lennon's spirit, like his music, shines throu...\n",
      "384004    rotten   Try as it might to build a sense of mystery o...\n",
      "...          ...                                                ...\n",
      "479995    rotten   Zemeckis seems unable to admit that the motio...\n",
      "479996     fresh   Movies like The Kids Are All Right -- beautif...\n",
      "479997    rotten   Film-savvy audiences soon will catch onto Win...\n",
      "479998     fresh                        An odd yet enjoyable film. \n",
      "479999     fresh   No other animation studio, even our beloved P...\n",
      "\n",
      "[96000 rows x 2 columns]\n"
     ]
    }
   ],
   "source": [
    "train_size = int(len(reviews) * 0.6)\n",
    "dev_size = int(len(reviews) * 0.2)\n",
    "test_size = len(reviews) - train_size - dev_size\n",
    "\n",
    "train_data = reviews[:train_size]\n",
    "dev_data = reviews[train_size:train_size+dev_size]\n",
    "test_data = reviews[train_size+dev_size:]\n",
    "print(train_data)\n",
    "print(dev_data)\n",
    "print(test_data)"
   ]
  },
  {
   "cell_type": "code",
   "execution_count": 100,
   "id": "15bfdbe2",
   "metadata": {},
   "outputs": [
    {
     "name": "stdout",
     "output_type": "stream",
     "text": [
      "Index(['Freshness', 'Review'], dtype='object')\n",
      "Index(['Freshness', 'Review'], dtype='object')\n",
      "Index(['Freshness', 'Review'], dtype='object')\n"
     ]
    }
   ],
   "source": [
    "print(train_data.columns)\n",
    "print(dev_data.columns)\n",
    "print(test_data.columns)"
   ]
  },
  {
   "cell_type": "code",
   "execution_count": 74,
   "id": "c4cda738",
   "metadata": {},
   "outputs": [
    {
     "name": "stdout",
     "output_type": "stream",
     "text": [
      "  Freshness                                             Review\n",
      "0     fresh   Manakamana doesn't answer any questions, yet ...\n",
      "1     fresh   Wilfully offensive and powered by a chest-thu...\n",
      "2    rotten   It would be difficult to imagine material mor...\n",
      "3    rotten   Despite the gusto its star brings to the role...\n",
      "4    rotten   If there was a good idea at the core of this ...\n",
      "       Freshness                                             Review\n",
      "336000     fresh   Ultimate X is a ride, basically the kind of g...\n",
      "336001    rotten   Viewers will be mystified by the existence of...\n",
      "336002     fresh   The story might be familiar but the setting i...\n",
      "336003    rotten   A pleasant time-waster with non-abysmal perfo...\n",
      "336004     fresh   The difficulty and the key lies in taking a l...\n",
      "       Freshness                                             Review\n",
      "408000    rotten   It's execrable; a fist-chewing embarrassment ...\n",
      "408001     fresh   This deceptively simple documentary by Jean-F...\n",
      "408002    rotten   If nothing else, as least the film produces a...\n",
      "408003    rotten                Passable, but rather disappointing.\n",
      "408004    rotten   It's dramatically vanilla, suffers from sit-c...\n"
     ]
    }
   ],
   "source": [
    "print(train_data.head())\n",
    "print(dev_data.head())\n",
    "print(test_data.head())"
   ]
  },
  {
   "cell_type": "code",
   "execution_count": 75,
   "id": "96f7ea70",
   "metadata": {},
   "outputs": [
    {
     "name": "stderr",
     "output_type": "stream",
     "text": [
      "C:\\Users\\harsh\\AppData\\Local\\Temp\\ipykernel_3624\\1304043459.py:6: SettingWithCopyWarning: \n",
      "A value is trying to be set on a copy of a slice from a DataFrame.\n",
      "Try using .loc[row_indexer,col_indexer] = value instead\n",
      "\n",
      "See the caveats in the documentation: https://pandas.pydata.org/pandas-docs/stable/user_guide/indexing.html#returning-a-view-versus-a-copy\n",
      "  train_data['text'] = train_data['Review'].apply(preprocess)\n",
      "C:\\Users\\harsh\\AppData\\Local\\Temp\\ipykernel_3624\\1304043459.py:7: SettingWithCopyWarning: \n",
      "A value is trying to be set on a copy of a slice from a DataFrame.\n",
      "Try using .loc[row_indexer,col_indexer] = value instead\n",
      "\n",
      "See the caveats in the documentation: https://pandas.pydata.org/pandas-docs/stable/user_guide/indexing.html#returning-a-view-versus-a-copy\n",
      "  dev_data['text'] = dev_data['Review'].apply(preprocess)\n",
      "C:\\Users\\harsh\\AppData\\Local\\Temp\\ipykernel_3624\\1304043459.py:8: SettingWithCopyWarning: \n",
      "A value is trying to be set on a copy of a slice from a DataFrame.\n",
      "Try using .loc[row_indexer,col_indexer] = value instead\n",
      "\n",
      "See the caveats in the documentation: https://pandas.pydata.org/pandas-docs/stable/user_guide/indexing.html#returning-a-view-versus-a-copy\n",
      "  test_data['text'] = test_data['Review'].apply(preprocess)\n"
     ]
    }
   ],
   "source": [
    "def preprocess(text):\n",
    "    text = re.sub(r'[^\\w\\s]', '', str(text).lower())\n",
    "    text = ' '.join([word for word in text.split()])\n",
    "    return text\n",
    "\n",
    "train_data['text'] = train_data['Review'].apply(preprocess)\n",
    "dev_data['text'] = dev_data['Review'].apply(preprocess)\n",
    "test_data['text'] = test_data['Review'].apply(preprocess)"
   ]
  },
  {
   "cell_type": "code",
   "execution_count": 76,
   "id": "b91202d6",
   "metadata": {},
   "outputs": [
    {
     "name": "stdout",
     "output_type": "stream",
     "text": [
      "0         manakamana doesnt answer any questions yet mak...\n",
      "1         wilfully offensive and powered by a chestthump...\n",
      "2         it would be difficult to imagine material more...\n",
      "3         despite the gusto its star brings to the role ...\n",
      "4         if there was a good idea at the core of this f...\n",
      "                                ...                        \n",
      "335995    the main problem is that this bostonset flick ...\n",
      "335996    all in all the ï½ï½ï½150minute mr turner is an...\n",
      "335997    the family stone introduces a fun and agreeabl...\n",
      "335998    the paintbynumbers portrayals of 1960s iconic ...\n",
      "335999    as aroonpheng slowly but surely breaks our hea...\n",
      "Name: text, Length: 336000, dtype: object\n"
     ]
    }
   ],
   "source": [
    "train_data_copy = train_data.copy()\n",
    "train_data_copy['text'] = train_data_copy['Review'].apply(preprocess)\n",
    "print(train_data_copy['text']);\n",
    "\n",
    "dev_data_copy = dev_data.copy()\n",
    "dev_data_copy['text'] = dev_data_copy['Review'].apply(preprocess)\n",
    "\n",
    "test_data_copy = test_data.copy()\n",
    "test_data_copy['text'] = test_data_copy['Review'].apply(preprocess)\n"
   ]
  },
  {
   "cell_type": "code",
   "execution_count": 77,
   "id": "686bb667",
   "metadata": {},
   "outputs": [],
   "source": [
    "vocabulary = []\n",
    "for text in train_data['text']:\n",
    "    for word in text.split():\n",
    "        if word not in vocabulary:\n",
    "            vocabulary.append(word)"
   ]
  },
  {
   "cell_type": "code",
   "execution_count": 78,
   "id": "a1a04a4c",
   "metadata": {},
   "outputs": [],
   "source": [
    "word_index = {}\n",
    "for i, word in enumerate(vocabulary):\n",
    "    word_index[word] = i"
   ]
  },
  {
   "cell_type": "code",
   "execution_count": 79,
   "id": "4802244d",
   "metadata": {},
   "outputs": [],
   "source": [
    "doc_count = defaultdict(int)\n",
    "sent_count = defaultdict(lambda: defaultdict(int))\n",
    "\n",
    "for i, row in train_data.iterrows():\n",
    "    sentiment = row['Freshness'].strip().lower()  # normalize the sentiment value\n",
    "    doc_count_total = 0\n",
    "    for word in row['text'].split():\n",
    "        doc_count[word] += 1\n",
    "        sent_count[sentiment][word] += 1\n",
    "        doc_count_total += 1\n",
    "    # update the sentiment count\n",
    "    sent_count[sentiment]['__total__'] += 1\n",
    "\n",
    "# calculate the probability of each word\n",
    "prob_word = {}\n",
    "for word, count in doc_count.items():\n",
    "    if count >= 5:\n",
    "        prob_word[word] = count / len(train_data)\n"
   ]
  },
  {
   "cell_type": "code",
   "execution_count": 18,
   "id": "12367920",
   "metadata": {},
   "outputs": [],
   "source": [
    "# calculate the conditional probability of each word given each sentiment\n",
    "cond_prob = {}\n",
    "for word in prob_word.keys():\n",
    "    cond_prob[word] = {}\n",
    "    for sentiment in sent_count.keys():\n",
    "        num = sent_count[sentiment][word] + 1\n",
    "        denom = sent_count[sentiment]['__total__'] + len(prob_word)\n",
    "        cond_prob[word][sentiment] = num / denom\n"
   ]
  },
  {
   "cell_type": "code",
   "execution_count": 101,
   "id": "abbb0128",
   "metadata": {},
   "outputs": [
    {
     "name": "stdout",
     "output_type": "stream",
     "text": [
      "Number of all the documents containing THE 0.9294209566802674\n",
      "Number of documents containing word THE in positive documents 0.9294209566802674\n"
     ]
    }
   ],
   "source": [
    "sentiment = row['Freshness']\n",
    "\n",
    "print('Number of all the documents containing THE', cond_prob['the'][sentiment])\n",
    "\n",
    "print('Number of documents containing word THE in positive documents', cond_prob['the']['fresh'])"
   ]
  },
  {
   "cell_type": "code",
   "execution_count": 96,
   "id": "9f494fc3",
   "metadata": {},
   "outputs": [],
   "source": [
    "def classify(text):\n",
    "    # calculate the log probability of the text being fresh and rotten\n",
    "    log_prob_fresh = np.log(sent_count['Fresh']['__total__'] / len(train_data))\n",
    "    log_prob_rotten = np.log(sent_count['Rotten']['__total__'] / len(train_data))\n",
    "    \n",
    "    for word in text.split():\n",
    "        if word in cond_prob:\n",
    "            log_prob_fresh += np.log(cond_prob[word]['Fresh'])\n",
    "            log_prob_rotten += np.log(cond_prob[word]['Rotten'])\n",
    "    \n",
    "    if log_prob_fresh > log_prob_rotten:\n",
    "        return 'Fresh'\n",
    "    else:\n",
    "        return 'Rotten'\n"
   ]
  },
  {
   "cell_type": "code",
   "execution_count": 97,
   "id": "4855c610",
   "metadata": {
    "scrolled": true
   },
   "outputs": [
    {
     "name": "stdout",
     "output_type": "stream",
     "text": [
      "Accuracy: 0.7942222222222223\n"
     ]
    }
   ],
   "source": [
    "# count the number of documents containing each word\n",
    "doc_count = defaultdict(int)\n",
    "# count the number of documents containing each word for each sentiment\n",
    "sent_count = {'fresh': defaultdict(int), 'rotten': defaultdict(int)}\n",
    "\n",
    "for i, row in train_data.iterrows():\n",
    "    sentiment = row['Freshness'].lower()\n",
    "    doc_count_total = 0\n",
    "    for word in row['text'].split():\n",
    "        doc_count[word] += 1\n",
    "        sent_count[sentiment][word] += 1\n",
    "        doc_count_total += 1\n",
    "    # update the sentiment count\n",
    "    sent_count[sentiment]['__total__'] += 1\n",
    "\n",
    "# calculate the probability of each word\n",
    "prob_word = {}\n",
    "for word, count in doc_count.items():\n",
    "    if count >= 5:\n",
    "        prob_word[word] = count / len(train_data)\n",
    "\n",
    "# calculate the conditional probability of each word given each sentiment\n",
    "cond_prob = {}\n",
    "for word, count in prob_word.items():\n",
    "    cond_prob[word] = {'fresh': 0, 'rotten': 0}\n",
    "    for sentiment in sent_count:\n",
    "        cond_prob[word][sentiment] = (sent_count[sentiment][word] + 1) / (sent_count[sentiment]['__total__'] + len(prob_word))\n",
    "\n",
    "def classify(text, cond_prob):\n",
    "    # calculate the log probability of the text being fresh and rotten\n",
    "    log_prob_fresh = np.log(sent_count['fresh']['__total__'] / len(train_data))\n",
    "    log_prob_rotten = np.log(sent_count['rotten']['__total__'] / len(train_data))\n",
    "    \n",
    "    for word in text.split():\n",
    "        if word in cond_prob:\n",
    "            log_prob_fresh += np.log(cond_prob[word]['fresh'])\n",
    "            log_prob_rotten += np.log(cond_prob[word]['rotten'])\n",
    "    \n",
    "    if log_prob_fresh > log_prob_rotten:\n",
    "        return 'fresh'\n",
    "    else:\n",
    "        return 'rotten'\n",
    "\n",
    "correct_count = 0\n",
    "total_count = len(dev_data)\n",
    "for i, row in dev_data.iterrows():\n",
    "    text = row['text']\n",
    "    sentiment = row['Freshness'].lower() # convert to lower case\n",
    "    predicted_sentiment = classify(text, cond_prob)\n",
    "    if sentiment == predicted_sentiment:\n",
    "        correct_count += 1\n",
    "\n",
    "accuracy = correct_count / total_count\n",
    "print('Accuracy:', accuracy)\n"
   ]
  },
  {
   "cell_type": "code",
   "execution_count": 90,
   "id": "eaa7f4b1",
   "metadata": {},
   "outputs": [
    {
     "name": "stdout",
     "output_type": "stream",
     "text": [
      "Accuracy (alpha=0.0001): 0.793\n",
      "Accuracy (alpha=0.001): 0.793\n",
      "Accuracy (alpha=0.01): 0.794\n",
      "Accuracy (alpha=0.1): 0.794\n",
      "Accuracy (alpha=1): 0.794\n",
      "Accuracy (alpha=10): 0.789\n",
      "Accuracy (alpha=100): 0.766\n"
     ]
    }
   ],
   "source": [
    "def calculate_cond_prob(alpha):\n",
    "    # calculate the conditional probability of each word given each sentiment\n",
    "    cond_prob = {}\n",
    "    for word in prob_word.keys():\n",
    "        cond_prob[word] = {}\n",
    "        for sentiment in sent_count.keys():\n",
    "            num = sent_count[sentiment][word] + alpha\n",
    "            denom = sent_count[sentiment]['__total__'] + alpha*len(prob_word)\n",
    "            cond_prob[word][sentiment] = num / denom\n",
    "    return cond_prob\n",
    "\n",
    "#smoothing\n",
    "alpha_list = [0.0001, 0.001, 0.01, 0.1, 1, 10, 100]\n",
    "for alpha in alpha_list:\n",
    "    cond_prob = calculate_cond_prob(alpha)\n",
    "    correct_count = 0\n",
    "    total_count = len(dev_data)\n",
    "    for i, row in dev_data.iterrows():\n",
    "        text = row['text']\n",
    "        sentiment = row['Freshness']\n",
    "        predicted_sentiment = classify(text, cond_prob)\n",
    "        if sentiment == predicted_sentiment:\n",
    "            correct_count += 1\n",
    "\n",
    "    accuracy = correct_count / total_count\n",
    "    print('Accuracy (alpha={}): {:.3f}'.format(alpha, accuracy))"
   ]
  },
  {
   "cell_type": "code",
   "execution_count": 93,
   "id": "b577bc6e",
   "metadata": {},
   "outputs": [
    {
     "name": "stdout",
     "output_type": "stream",
     "text": [
      "Top 10 words that predict \"fresh\":\n",
      "to (0.018)\n",
      "that (0.011)\n",
      "it (0.011)\n",
      "but (0.008)\n",
      "for (0.007)\n",
      "this (0.007)\n",
      "on (0.004)\n",
      "movie (0.004)\n",
      "be (0.004)\n",
      "not (0.004)\n",
      "\n",
      "Top 10 words that predict \"rotten\":\n",
      "the (0.046)\n",
      "a (0.031)\n",
      "of (0.025)\n",
      "and (0.024)\n",
      "is (0.016)\n",
      "in (0.012)\n",
      "its (0.011)\n",
      "as (0.008)\n",
      "with (0.007)\n",
      "film (0.006)\n"
     ]
    }
   ],
   "source": [
    "def top_words(sentiment, num_words=10):\n",
    "    words = []\n",
    "    for word in cond_prob.keys():\n",
    "        if cond_prob[word]['rotten'] > cond_prob[word][sentiment]:\n",
    "            words.append((word, cond_prob[word][sentiment]))\n",
    "        elif cond_prob[word]['fresh'] > cond_prob[word][sentiment]:\n",
    "            words.append((word, cond_prob[word][sentiment]))\n",
    "    words.sort(key=lambda x: -x[1])\n",
    "    return words[:num_words]\n",
    "\n",
    "top_fresh_words = top_words('fresh')\n",
    "top_rotten_words = top_words('rotten')\n",
    "\n",
    "print('Top 10 words that predict \"fresh\":')\n",
    "for word, prob in top_fresh_words:\n",
    "    print('{} ({:.3f})'.format(word, prob))\n",
    "print('\\nTop 10 words that predict \"rotten\":')\n",
    "for word, prob in top_rotten_words:\n",
    "    print('{} ({:.3f})'.format(word, prob))"
   ]
  },
  {
   "cell_type": "code",
   "execution_count": null,
   "id": "c610584b",
   "metadata": {},
   "outputs": [],
   "source": []
  }
 ],
 "metadata": {
  "kernelspec": {
   "display_name": "Python 3 (ipykernel)",
   "language": "python",
   "name": "python3"
  },
  "language_info": {
   "codemirror_mode": {
    "name": "ipython",
    "version": 3
   },
   "file_extension": ".py",
   "mimetype": "text/x-python",
   "name": "python",
   "nbconvert_exporter": "python",
   "pygments_lexer": "ipython3",
   "version": "3.11.2"
  }
 },
 "nbformat": 4,
 "nbformat_minor": 5
}
